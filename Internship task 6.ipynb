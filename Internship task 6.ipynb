{
 "cells": [
  {
   "cell_type": "code",
   "execution_count": 2,
   "id": "705af321-ac98-4e6f-8caf-9a8f61981685",
   "metadata": {},
   "outputs": [],
   "source": [
    "import numpy as np\n",
    "import pandas as pd"
   ]
  },
  {
   "cell_type": "code",
   "execution_count": 3,
   "id": "38cb89be-606c-4482-945c-6b45c9dbb8e0",
   "metadata": {},
   "outputs": [],
   "source": [
    "df = pd.read_csv('online_sales_dataset.csv')"
   ]
  },
  {
   "cell_type": "code",
   "execution_count": 4,
   "id": "fe373c94-fa14-4f0f-91ad-758482990d1d",
   "metadata": {},
   "outputs": [
    {
     "data": {
      "text/html": [
       "<div>\n",
       "<style scoped>\n",
       "    .dataframe tbody tr th:only-of-type {\n",
       "        vertical-align: middle;\n",
       "    }\n",
       "\n",
       "    .dataframe tbody tr th {\n",
       "        vertical-align: top;\n",
       "    }\n",
       "\n",
       "    .dataframe thead th {\n",
       "        text-align: right;\n",
       "    }\n",
       "</style>\n",
       "<table border=\"1\" class=\"dataframe\">\n",
       "  <thead>\n",
       "    <tr style=\"text-align: right;\">\n",
       "      <th></th>\n",
       "      <th>InvoiceNo</th>\n",
       "      <th>StockCode</th>\n",
       "      <th>Description</th>\n",
       "      <th>Quantity</th>\n",
       "      <th>InvoiceDate</th>\n",
       "      <th>UnitPrice</th>\n",
       "      <th>CustomerID</th>\n",
       "      <th>Country</th>\n",
       "      <th>Discount</th>\n",
       "      <th>PaymentMethod</th>\n",
       "      <th>ShippingCost</th>\n",
       "      <th>Category</th>\n",
       "      <th>SalesChannel</th>\n",
       "      <th>ReturnStatus</th>\n",
       "      <th>ShipmentProvider</th>\n",
       "      <th>WarehouseLocation</th>\n",
       "      <th>OrderPriority</th>\n",
       "    </tr>\n",
       "  </thead>\n",
       "  <tbody>\n",
       "    <tr>\n",
       "      <th>0</th>\n",
       "      <td>221958</td>\n",
       "      <td>SKU_1964</td>\n",
       "      <td>White Mug</td>\n",
       "      <td>38</td>\n",
       "      <td>2020-01-01 00:00</td>\n",
       "      <td>1.71</td>\n",
       "      <td>37039.0</td>\n",
       "      <td>Australia</td>\n",
       "      <td>0.470000</td>\n",
       "      <td>Bank Transfer</td>\n",
       "      <td>10.79</td>\n",
       "      <td>Apparel</td>\n",
       "      <td>In-store</td>\n",
       "      <td>Not Returned</td>\n",
       "      <td>UPS</td>\n",
       "      <td>London</td>\n",
       "      <td>Medium</td>\n",
       "    </tr>\n",
       "    <tr>\n",
       "      <th>1</th>\n",
       "      <td>771155</td>\n",
       "      <td>SKU_1241</td>\n",
       "      <td>White Mug</td>\n",
       "      <td>18</td>\n",
       "      <td>2020-01-01 01:00</td>\n",
       "      <td>41.25</td>\n",
       "      <td>19144.0</td>\n",
       "      <td>Spain</td>\n",
       "      <td>0.190000</td>\n",
       "      <td>paypall</td>\n",
       "      <td>9.51</td>\n",
       "      <td>Electronics</td>\n",
       "      <td>Online</td>\n",
       "      <td>Not Returned</td>\n",
       "      <td>UPS</td>\n",
       "      <td>Rome</td>\n",
       "      <td>Medium</td>\n",
       "    </tr>\n",
       "    <tr>\n",
       "      <th>2</th>\n",
       "      <td>231932</td>\n",
       "      <td>SKU_1501</td>\n",
       "      <td>Headphones</td>\n",
       "      <td>49</td>\n",
       "      <td>2020-01-01 02:00</td>\n",
       "      <td>29.11</td>\n",
       "      <td>50472.0</td>\n",
       "      <td>Germany</td>\n",
       "      <td>0.350000</td>\n",
       "      <td>Bank Transfer</td>\n",
       "      <td>23.03</td>\n",
       "      <td>Electronics</td>\n",
       "      <td>Online</td>\n",
       "      <td>Returned</td>\n",
       "      <td>UPS</td>\n",
       "      <td>Berlin</td>\n",
       "      <td>High</td>\n",
       "    </tr>\n",
       "    <tr>\n",
       "      <th>3</th>\n",
       "      <td>465838</td>\n",
       "      <td>SKU_1760</td>\n",
       "      <td>Desk Lamp</td>\n",
       "      <td>14</td>\n",
       "      <td>2020-01-01 03:00</td>\n",
       "      <td>76.68</td>\n",
       "      <td>96586.0</td>\n",
       "      <td>Netherlands</td>\n",
       "      <td>0.140000</td>\n",
       "      <td>paypall</td>\n",
       "      <td>11.08</td>\n",
       "      <td>Accessories</td>\n",
       "      <td>Online</td>\n",
       "      <td>Not Returned</td>\n",
       "      <td>Royal Mail</td>\n",
       "      <td>Rome</td>\n",
       "      <td>Low</td>\n",
       "    </tr>\n",
       "    <tr>\n",
       "      <th>4</th>\n",
       "      <td>359178</td>\n",
       "      <td>SKU_1386</td>\n",
       "      <td>USB Cable</td>\n",
       "      <td>-30</td>\n",
       "      <td>2020-01-01 04:00</td>\n",
       "      <td>-68.11</td>\n",
       "      <td>NaN</td>\n",
       "      <td>United Kingdom</td>\n",
       "      <td>1.501433</td>\n",
       "      <td>Bank Transfer</td>\n",
       "      <td>NaN</td>\n",
       "      <td>Electronics</td>\n",
       "      <td>In-store</td>\n",
       "      <td>Not Returned</td>\n",
       "      <td>FedEx</td>\n",
       "      <td>NaN</td>\n",
       "      <td>Medium</td>\n",
       "    </tr>\n",
       "  </tbody>\n",
       "</table>\n",
       "</div>"
      ],
      "text/plain": [
       "   InvoiceNo StockCode Description  Quantity       InvoiceDate  UnitPrice  \\\n",
       "0     221958  SKU_1964   White Mug        38  2020-01-01 00:00       1.71   \n",
       "1     771155  SKU_1241   White Mug        18  2020-01-01 01:00      41.25   \n",
       "2     231932  SKU_1501  Headphones        49  2020-01-01 02:00      29.11   \n",
       "3     465838  SKU_1760   Desk Lamp        14  2020-01-01 03:00      76.68   \n",
       "4     359178  SKU_1386   USB Cable       -30  2020-01-01 04:00     -68.11   \n",
       "\n",
       "   CustomerID         Country  Discount  PaymentMethod  ShippingCost  \\\n",
       "0     37039.0       Australia  0.470000  Bank Transfer         10.79   \n",
       "1     19144.0           Spain  0.190000        paypall          9.51   \n",
       "2     50472.0         Germany  0.350000  Bank Transfer         23.03   \n",
       "3     96586.0     Netherlands  0.140000        paypall         11.08   \n",
       "4         NaN  United Kingdom  1.501433  Bank Transfer           NaN   \n",
       "\n",
       "      Category SalesChannel  ReturnStatus ShipmentProvider WarehouseLocation  \\\n",
       "0      Apparel     In-store  Not Returned              UPS            London   \n",
       "1  Electronics       Online  Not Returned              UPS              Rome   \n",
       "2  Electronics       Online      Returned              UPS            Berlin   \n",
       "3  Accessories       Online  Not Returned       Royal Mail              Rome   \n",
       "4  Electronics     In-store  Not Returned            FedEx               NaN   \n",
       "\n",
       "  OrderPriority  \n",
       "0        Medium  \n",
       "1        Medium  \n",
       "2          High  \n",
       "3           Low  \n",
       "4        Medium  "
      ]
     },
     "execution_count": 4,
     "metadata": {},
     "output_type": "execute_result"
    }
   ],
   "source": [
    "df.head()"
   ]
  },
  {
   "cell_type": "code",
   "execution_count": 5,
   "id": "e40cf091-1ae4-4384-8f86-da6d64683b7c",
   "metadata": {},
   "outputs": [
    {
     "data": {
      "text/plain": [
       "InvoiceNo              int64\n",
       "StockCode             object\n",
       "Description           object\n",
       "Quantity               int64\n",
       "InvoiceDate           object\n",
       "UnitPrice            float64\n",
       "CustomerID           float64\n",
       "Country               object\n",
       "Discount             float64\n",
       "PaymentMethod         object\n",
       "ShippingCost         float64\n",
       "Category              object\n",
       "SalesChannel          object\n",
       "ReturnStatus          object\n",
       "ShipmentProvider      object\n",
       "WarehouseLocation     object\n",
       "OrderPriority         object\n",
       "dtype: object"
      ]
     },
     "execution_count": 5,
     "metadata": {},
     "output_type": "execute_result"
    }
   ],
   "source": [
    "df.dtypes"
   ]
  },
  {
   "cell_type": "code",
   "execution_count": 6,
   "id": "389b5f39-edec-4df7-8f38-88350c8de127",
   "metadata": {},
   "outputs": [],
   "source": [
    "import datetime "
   ]
  },
  {
   "cell_type": "code",
   "execution_count": 7,
   "id": "50e8448f-c4a7-423c-9a12-e1dc38a4af20",
   "metadata": {},
   "outputs": [],
   "source": [
    "df['InvoiceDate'] = df['InvoiceDate'].astype('datetime64[ns]')"
   ]
  },
  {
   "cell_type": "code",
   "execution_count": 8,
   "id": "192b34be-b952-47ba-8061-9485cd2bb9ee",
   "metadata": {},
   "outputs": [
    {
     "data": {
      "text/plain": [
       "InvoiceNo               0\n",
       "StockCode               0\n",
       "Description             0\n",
       "Quantity                0\n",
       "InvoiceDate             0\n",
       "UnitPrice               0\n",
       "CustomerID           4978\n",
       "Country                 0\n",
       "Discount                0\n",
       "PaymentMethod           0\n",
       "ShippingCost         2489\n",
       "Category                0\n",
       "SalesChannel            0\n",
       "ReturnStatus            0\n",
       "ShipmentProvider        0\n",
       "WarehouseLocation    3485\n",
       "OrderPriority           0\n",
       "dtype: int64"
      ]
     },
     "execution_count": 8,
     "metadata": {},
     "output_type": "execute_result"
    }
   ],
   "source": [
    "df.isnull().sum()"
   ]
  },
  {
   "cell_type": "code",
   "execution_count": 9,
   "id": "05b924c8-901a-4f02-b417-79d10872a137",
   "metadata": {},
   "outputs": [
    {
     "data": {
      "text/plain": [
       "(49782, 17)"
      ]
     },
     "execution_count": 9,
     "metadata": {},
     "output_type": "execute_result"
    }
   ],
   "source": [
    "df.shape"
   ]
  },
  {
   "cell_type": "code",
   "execution_count": 10,
   "id": "528d179e-0a3d-464a-8040-8e73c4622e0a",
   "metadata": {},
   "outputs": [],
   "source": [
    "df.dropna(subset = ['CustomerID'],inplace = True)"
   ]
  },
  {
   "cell_type": "code",
   "execution_count": 13,
   "id": "dfa82c81-03fd-46b4-a591-838316fa7efd",
   "metadata": {},
   "outputs": [],
   "source": [
    "df.to_csv('online_sales.csv',index = False,encoding='utf-8')"
   ]
  },
  {
   "cell_type": "code",
   "execution_count": 14,
   "id": "e385a478-5bce-47e9-ad23-deb5462a90dd",
   "metadata": {},
   "outputs": [
    {
     "data": {
      "text/html": [
       "<a href='online_sales.csv' target='_blank'>online_sales.csv</a><br>"
      ],
      "text/plain": [
       "C:\\Users\\Amit kapoor\\online_sales.csv"
      ]
     },
     "execution_count": 14,
     "metadata": {},
     "output_type": "execute_result"
    }
   ],
   "source": [
    "from IPython.display import FileLink\n",
    "\n",
    "# Run this *after* you've created the CSV file\n",
    "FileLink(r'online_sales.csv')"
   ]
  },
  {
   "cell_type": "code",
   "execution_count": null,
   "id": "95c920f3-a721-4507-a6fd-ea5d7dee25b5",
   "metadata": {},
   "outputs": [],
   "source": []
  }
 ],
 "metadata": {
  "kernelspec": {
   "display_name": "Python 3 (ipykernel)",
   "language": "python",
   "name": "python3"
  },
  "language_info": {
   "codemirror_mode": {
    "name": "ipython",
    "version": 3
   },
   "file_extension": ".py",
   "mimetype": "text/x-python",
   "name": "python",
   "nbconvert_exporter": "python",
   "pygments_lexer": "ipython3",
   "version": "3.9.13"
  }
 },
 "nbformat": 4,
 "nbformat_minor": 5
}
